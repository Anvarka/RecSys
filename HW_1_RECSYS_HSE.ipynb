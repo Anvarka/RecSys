{
  "nbformat": 4,
  "nbformat_minor": 0,
  "metadata": {
    "colab": {
      "name": "HW_1_RECSYS_HSE.ipynb",
      "provenance": [],
      "include_colab_link": true
    },
    "kernelspec": {
      "display_name": "Python 3",
      "language": "python",
      "name": "python3"
    },
    "language_info": {
      "codemirror_mode": {
        "name": "ipython",
        "version": 3
      },
      "file_extension": ".py",
      "mimetype": "text/x-python",
      "name": "python",
      "nbconvert_exporter": "python",
      "pygments_lexer": "ipython3",
      "version": "3.7.4"
    },
    "widgets": {
      "application/vnd.jupyter.widget-state+json": {
        "b9e12ee6d9174df4b8e3b4f118f43b54": {
          "model_module": "@jupyter-widgets/controls",
          "model_name": "HBoxModel",
          "model_module_version": "1.5.0",
          "state": {
            "_view_name": "HBoxView",
            "_dom_classes": [],
            "_model_name": "HBoxModel",
            "_view_module": "@jupyter-widgets/controls",
            "_model_module_version": "1.5.0",
            "_view_count": null,
            "_view_module_version": "1.5.0",
            "box_style": "",
            "layout": "IPY_MODEL_e270cb681d7047d898fc6bc7de867e71",
            "_model_module": "@jupyter-widgets/controls",
            "children": [
              "IPY_MODEL_26a25d75093044d891add21ba3edc433",
              "IPY_MODEL_2763859519fb438a902c6767d9f6ec22",
              "IPY_MODEL_bd0689ea12414e53a854504d240e45f4"
            ]
          }
        },
        "e270cb681d7047d898fc6bc7de867e71": {
          "model_module": "@jupyter-widgets/base",
          "model_name": "LayoutModel",
          "model_module_version": "1.2.0",
          "state": {
            "_view_name": "LayoutView",
            "grid_template_rows": null,
            "right": null,
            "justify_content": null,
            "_view_module": "@jupyter-widgets/base",
            "overflow": null,
            "_model_module_version": "1.2.0",
            "_view_count": null,
            "flex_flow": null,
            "width": null,
            "min_width": null,
            "border": null,
            "align_items": null,
            "bottom": null,
            "_model_module": "@jupyter-widgets/base",
            "top": null,
            "grid_column": null,
            "overflow_y": null,
            "overflow_x": null,
            "grid_auto_flow": null,
            "grid_area": null,
            "grid_template_columns": null,
            "flex": null,
            "_model_name": "LayoutModel",
            "justify_items": null,
            "grid_row": null,
            "max_height": null,
            "align_content": null,
            "visibility": null,
            "align_self": null,
            "height": null,
            "min_height": null,
            "padding": null,
            "grid_auto_rows": null,
            "grid_gap": null,
            "max_width": null,
            "order": null,
            "_view_module_version": "1.2.0",
            "grid_template_areas": null,
            "object_position": null,
            "object_fit": null,
            "grid_auto_columns": null,
            "margin": null,
            "display": null,
            "left": null
          }
        },
        "26a25d75093044d891add21ba3edc433": {
          "model_module": "@jupyter-widgets/controls",
          "model_name": "HTMLModel",
          "model_module_version": "1.5.0",
          "state": {
            "_view_name": "HTMLView",
            "style": "IPY_MODEL_cdd2ef51e8334b859cbf829fb7773ac7",
            "_dom_classes": [],
            "description": "",
            "_model_name": "HTMLModel",
            "placeholder": "​",
            "_view_module": "@jupyter-widgets/controls",
            "_model_module_version": "1.5.0",
            "value": "100%",
            "_view_count": null,
            "_view_module_version": "1.5.0",
            "description_tooltip": null,
            "_model_module": "@jupyter-widgets/controls",
            "layout": "IPY_MODEL_13ca6c0f6f504626809499a2a3a9fa19"
          }
        },
        "2763859519fb438a902c6767d9f6ec22": {
          "model_module": "@jupyter-widgets/controls",
          "model_name": "FloatProgressModel",
          "model_module_version": "1.5.0",
          "state": {
            "_view_name": "ProgressView",
            "style": "IPY_MODEL_f017ed96c91d4ac5a6d8ea19c0b1a1b9",
            "_dom_classes": [],
            "description": "",
            "_model_name": "FloatProgressModel",
            "bar_style": "success",
            "max": 100,
            "_view_module": "@jupyter-widgets/controls",
            "_model_module_version": "1.5.0",
            "value": 100,
            "_view_count": null,
            "_view_module_version": "1.5.0",
            "orientation": "horizontal",
            "min": 0,
            "description_tooltip": null,
            "_model_module": "@jupyter-widgets/controls",
            "layout": "IPY_MODEL_54390fc2fb9143a9ab6e8347048bff3d"
          }
        },
        "bd0689ea12414e53a854504d240e45f4": {
          "model_module": "@jupyter-widgets/controls",
          "model_name": "HTMLModel",
          "model_module_version": "1.5.0",
          "state": {
            "_view_name": "HTMLView",
            "style": "IPY_MODEL_f339634b350944569a0d9889ce17c980",
            "_dom_classes": [],
            "description": "",
            "_model_name": "HTMLModel",
            "placeholder": "​",
            "_view_module": "@jupyter-widgets/controls",
            "_model_module_version": "1.5.0",
            "value": " 100/100 [00:00&lt;00:00, 209.22it/s, loss=0]",
            "_view_count": null,
            "_view_module_version": "1.5.0",
            "description_tooltip": null,
            "_model_module": "@jupyter-widgets/controls",
            "layout": "IPY_MODEL_509403acd5de47939677bb114c7fbf09"
          }
        },
        "cdd2ef51e8334b859cbf829fb7773ac7": {
          "model_module": "@jupyter-widgets/controls",
          "model_name": "DescriptionStyleModel",
          "model_module_version": "1.5.0",
          "state": {
            "_view_name": "StyleView",
            "_model_name": "DescriptionStyleModel",
            "description_width": "",
            "_view_module": "@jupyter-widgets/base",
            "_model_module_version": "1.5.0",
            "_view_count": null,
            "_view_module_version": "1.2.0",
            "_model_module": "@jupyter-widgets/controls"
          }
        },
        "13ca6c0f6f504626809499a2a3a9fa19": {
          "model_module": "@jupyter-widgets/base",
          "model_name": "LayoutModel",
          "model_module_version": "1.2.0",
          "state": {
            "_view_name": "LayoutView",
            "grid_template_rows": null,
            "right": null,
            "justify_content": null,
            "_view_module": "@jupyter-widgets/base",
            "overflow": null,
            "_model_module_version": "1.2.0",
            "_view_count": null,
            "flex_flow": null,
            "width": null,
            "min_width": null,
            "border": null,
            "align_items": null,
            "bottom": null,
            "_model_module": "@jupyter-widgets/base",
            "top": null,
            "grid_column": null,
            "overflow_y": null,
            "overflow_x": null,
            "grid_auto_flow": null,
            "grid_area": null,
            "grid_template_columns": null,
            "flex": null,
            "_model_name": "LayoutModel",
            "justify_items": null,
            "grid_row": null,
            "max_height": null,
            "align_content": null,
            "visibility": null,
            "align_self": null,
            "height": null,
            "min_height": null,
            "padding": null,
            "grid_auto_rows": null,
            "grid_gap": null,
            "max_width": null,
            "order": null,
            "_view_module_version": "1.2.0",
            "grid_template_areas": null,
            "object_position": null,
            "object_fit": null,
            "grid_auto_columns": null,
            "margin": null,
            "display": null,
            "left": null
          }
        },
        "f017ed96c91d4ac5a6d8ea19c0b1a1b9": {
          "model_module": "@jupyter-widgets/controls",
          "model_name": "ProgressStyleModel",
          "model_module_version": "1.5.0",
          "state": {
            "_view_name": "StyleView",
            "_model_name": "ProgressStyleModel",
            "description_width": "",
            "_view_module": "@jupyter-widgets/base",
            "_model_module_version": "1.5.0",
            "_view_count": null,
            "_view_module_version": "1.2.0",
            "bar_color": null,
            "_model_module": "@jupyter-widgets/controls"
          }
        },
        "54390fc2fb9143a9ab6e8347048bff3d": {
          "model_module": "@jupyter-widgets/base",
          "model_name": "LayoutModel",
          "model_module_version": "1.2.0",
          "state": {
            "_view_name": "LayoutView",
            "grid_template_rows": null,
            "right": null,
            "justify_content": null,
            "_view_module": "@jupyter-widgets/base",
            "overflow": null,
            "_model_module_version": "1.2.0",
            "_view_count": null,
            "flex_flow": null,
            "width": null,
            "min_width": null,
            "border": null,
            "align_items": null,
            "bottom": null,
            "_model_module": "@jupyter-widgets/base",
            "top": null,
            "grid_column": null,
            "overflow_y": null,
            "overflow_x": null,
            "grid_auto_flow": null,
            "grid_area": null,
            "grid_template_columns": null,
            "flex": null,
            "_model_name": "LayoutModel",
            "justify_items": null,
            "grid_row": null,
            "max_height": null,
            "align_content": null,
            "visibility": null,
            "align_self": null,
            "height": null,
            "min_height": null,
            "padding": null,
            "grid_auto_rows": null,
            "grid_gap": null,
            "max_width": null,
            "order": null,
            "_view_module_version": "1.2.0",
            "grid_template_areas": null,
            "object_position": null,
            "object_fit": null,
            "grid_auto_columns": null,
            "margin": null,
            "display": null,
            "left": null
          }
        },
        "f339634b350944569a0d9889ce17c980": {
          "model_module": "@jupyter-widgets/controls",
          "model_name": "DescriptionStyleModel",
          "model_module_version": "1.5.0",
          "state": {
            "_view_name": "StyleView",
            "_model_name": "DescriptionStyleModel",
            "description_width": "",
            "_view_module": "@jupyter-widgets/base",
            "_model_module_version": "1.5.0",
            "_view_count": null,
            "_view_module_version": "1.2.0",
            "_model_module": "@jupyter-widgets/controls"
          }
        },
        "509403acd5de47939677bb114c7fbf09": {
          "model_module": "@jupyter-widgets/base",
          "model_name": "LayoutModel",
          "model_module_version": "1.2.0",
          "state": {
            "_view_name": "LayoutView",
            "grid_template_rows": null,
            "right": null,
            "justify_content": null,
            "_view_module": "@jupyter-widgets/base",
            "overflow": null,
            "_model_module_version": "1.2.0",
            "_view_count": null,
            "flex_flow": null,
            "width": null,
            "min_width": null,
            "border": null,
            "align_items": null,
            "bottom": null,
            "_model_module": "@jupyter-widgets/base",
            "top": null,
            "grid_column": null,
            "overflow_y": null,
            "overflow_x": null,
            "grid_auto_flow": null,
            "grid_area": null,
            "grid_template_columns": null,
            "flex": null,
            "_model_name": "LayoutModel",
            "justify_items": null,
            "grid_row": null,
            "max_height": null,
            "align_content": null,
            "visibility": null,
            "align_self": null,
            "height": null,
            "min_height": null,
            "padding": null,
            "grid_auto_rows": null,
            "grid_gap": null,
            "max_width": null,
            "order": null,
            "_view_module_version": "1.2.0",
            "grid_template_areas": null,
            "object_position": null,
            "object_fit": null,
            "grid_auto_columns": null,
            "margin": null,
            "display": null,
            "left": null
          }
        }
      }
    }
  },
  "cells": [
    {
      "cell_type": "markdown",
      "metadata": {
        "id": "view-in-github",
        "colab_type": "text"
      },
      "source": [
        "<a href=\"https://colab.research.google.com/github/Anvarka/RecSys/blob/master/HW_1_RECSYS_HSE.ipynb\" target=\"_parent\"><img src=\"https://colab.research.google.com/assets/colab-badge.svg\" alt=\"Open In Colab\"/></a>"
      ]
    },
    {
      "cell_type": "code",
      "metadata": {
        "colab": {
          "base_uri": "https://localhost:8080/"
        },
        "id": "rSuZzCXCwX7Y",
        "outputId": "0a2655ac-99d0-46ed-b4a8-746a3b147bd2"
      },
      "source": [
        "from google.colab import drive\n",
        "drive.mount('/content/drive')"
      ],
      "execution_count": 1,
      "outputs": [
        {
          "output_type": "stream",
          "name": "stdout",
          "text": [
            "Mounted at /content/drive\n"
          ]
        }
      ]
    },
    {
      "cell_type": "code",
      "metadata": {
        "colab": {
          "base_uri": "https://localhost:8080/"
        },
        "id": "Nq4NG0d8wQet",
        "outputId": "dae1bd60-2b04-43b1-d88f-e6b5dd8f8892"
      },
      "source": [
        "! unzip /content/drive/MyDrive/ml-1m.zip\n",
        "! pip install implicit"
      ],
      "execution_count": 2,
      "outputs": [
        {
          "output_type": "stream",
          "name": "stdout",
          "text": [
            "Archive:  /content/drive/MyDrive/ml-1m.zip\n",
            "   creating: ml-1m/\n",
            "  inflating: ml-1m/movies.dat        \n",
            "  inflating: ml-1m/ratings.dat       \n",
            "  inflating: ml-1m/README            \n",
            "  inflating: ml-1m/users.dat         \n",
            "Collecting implicit\n",
            "  Downloading implicit-0.4.8.tar.gz (1.1 MB)\n",
            "\u001b[K     |████████████████████████████████| 1.1 MB 6.6 MB/s \n",
            "\u001b[?25h  Installing build dependencies ... \u001b[?25l\u001b[?25hdone\n",
            "  Getting requirements to build wheel ... \u001b[?25l\u001b[?25hdone\n",
            "  Installing backend dependencies ... \u001b[?25l\u001b[?25hdone\n",
            "    Preparing wheel metadata ... \u001b[?25l\u001b[?25hdone\n",
            "Requirement already satisfied: numpy in /usr/local/lib/python3.7/dist-packages (from implicit) (1.19.5)\n",
            "Requirement already satisfied: scipy>=0.16 in /usr/local/lib/python3.7/dist-packages (from implicit) (1.4.1)\n",
            "Requirement already satisfied: tqdm>=4.27 in /usr/local/lib/python3.7/dist-packages (from implicit) (4.62.3)\n",
            "Building wheels for collected packages: implicit\n",
            "  Building wheel for implicit (PEP 517) ... \u001b[?25l\u001b[?25hdone\n",
            "  Created wheel for implicit: filename=implicit-0.4.8-cp37-cp37m-linux_x86_64.whl size=4606647 sha256=33dd59ad31bde7d735fb0a3cc6b26b1566029a1313b2f4df73dc8cb933378e28\n",
            "  Stored in directory: /root/.cache/pip/wheels/88/e6/34/25e73cccbaf1a961154bb562a5f86123b68fdbf40e306073d6\n",
            "Successfully built implicit\n",
            "Installing collected packages: implicit\n",
            "Successfully installed implicit-0.4.8\n"
          ]
        }
      ]
    },
    {
      "cell_type": "markdown",
      "metadata": {
        "id": "DwKkQBl6vTIa"
      },
      "source": [
        "### Матричные факторизации"
      ]
    },
    {
      "cell_type": "markdown",
      "metadata": {
        "id": "jT_J6nsjvTIj"
      },
      "source": [
        "В данной работе вам предстоит познакомиться с практической стороной матричных разложений.\n",
        "Работа поделена на 4 задания:\n",
        "1. Вам необходимо реализовать SVD разложения используя SGD на explicit данных\n",
        "2. Вам необходимо реализовать матричное разложения используя ALS на implicit данных\n",
        "3. Вам необходимо реализовать матричное разложения используя BPR на implicit данных\n",
        "4. Вам необходимо реализовать матричное разложения используя WARP на implicit данных\n",
        "\n",
        "Мягкий дедлайн 13 Октября (пишутся замечания, выставляется оценка, есть возможность исправить до жесткого дедлайна)\n",
        "\n",
        "Жесткий дедлайн 20 Октября (Итоговая проверка)"
      ]
    },
    {
      "cell_type": "code",
      "metadata": {
        "colab": {
          "base_uri": "https://localhost:8080/"
        },
        "id": "OSQPXy0svTIk",
        "outputId": "998f26c5-2db9-42bf-fb62-bc9c7032ce8c"
      },
      "source": [
        "!pip install lightfm\n",
        "import implicit\n",
        "import pandas as pd\n",
        "import numpy as np\n",
        "import scipy.sparse as sp\n",
        "\n",
        "from lightfm.datasets import fetch_movielens"
      ],
      "execution_count": 3,
      "outputs": [
        {
          "output_type": "stream",
          "name": "stdout",
          "text": [
            "Collecting lightfm\n",
            "  Downloading lightfm-1.16.tar.gz (310 kB)\n",
            "\u001b[?25l\r\u001b[K     |█                               | 10 kB 19.3 MB/s eta 0:00:01\r\u001b[K     |██▏                             | 20 kB 23.3 MB/s eta 0:00:01\r\u001b[K     |███▏                            | 30 kB 24.3 MB/s eta 0:00:01\r\u001b[K     |████▎                           | 40 kB 18.8 MB/s eta 0:00:01\r\u001b[K     |█████▎                          | 51 kB 9.3 MB/s eta 0:00:01\r\u001b[K     |██████▍                         | 61 kB 8.3 MB/s eta 0:00:01\r\u001b[K     |███████▍                        | 71 kB 9.2 MB/s eta 0:00:01\r\u001b[K     |████████▌                       | 81 kB 10.2 MB/s eta 0:00:01\r\u001b[K     |█████████▌                      | 92 kB 10.9 MB/s eta 0:00:01\r\u001b[K     |██████████▋                     | 102 kB 8.6 MB/s eta 0:00:01\r\u001b[K     |███████████▋                    | 112 kB 8.6 MB/s eta 0:00:01\r\u001b[K     |████████████▊                   | 122 kB 8.6 MB/s eta 0:00:01\r\u001b[K     |█████████████▊                  | 133 kB 8.6 MB/s eta 0:00:01\r\u001b[K     |██████████████▉                 | 143 kB 8.6 MB/s eta 0:00:01\r\u001b[K     |███████████████▉                | 153 kB 8.6 MB/s eta 0:00:01\r\u001b[K     |█████████████████               | 163 kB 8.6 MB/s eta 0:00:01\r\u001b[K     |██████████████████              | 174 kB 8.6 MB/s eta 0:00:01\r\u001b[K     |███████████████████             | 184 kB 8.6 MB/s eta 0:00:01\r\u001b[K     |████████████████████            | 194 kB 8.6 MB/s eta 0:00:01\r\u001b[K     |█████████████████████▏          | 204 kB 8.6 MB/s eta 0:00:01\r\u001b[K     |██████████████████████▏         | 215 kB 8.6 MB/s eta 0:00:01\r\u001b[K     |███████████████████████▎        | 225 kB 8.6 MB/s eta 0:00:01\r\u001b[K     |████████████████████████▎       | 235 kB 8.6 MB/s eta 0:00:01\r\u001b[K     |█████████████████████████▍      | 245 kB 8.6 MB/s eta 0:00:01\r\u001b[K     |██████████████████████████▍     | 256 kB 8.6 MB/s eta 0:00:01\r\u001b[K     |███████████████████████████▌    | 266 kB 8.6 MB/s eta 0:00:01\r\u001b[K     |████████████████████████████▌   | 276 kB 8.6 MB/s eta 0:00:01\r\u001b[K     |█████████████████████████████▋  | 286 kB 8.6 MB/s eta 0:00:01\r\u001b[K     |██████████████████████████████▋ | 296 kB 8.6 MB/s eta 0:00:01\r\u001b[K     |███████████████████████████████▊| 307 kB 8.6 MB/s eta 0:00:01\r\u001b[K     |████████████████████████████████| 310 kB 8.6 MB/s \n",
            "\u001b[?25hRequirement already satisfied: numpy in /usr/local/lib/python3.7/dist-packages (from lightfm) (1.19.5)\n",
            "Requirement already satisfied: scipy>=0.17.0 in /usr/local/lib/python3.7/dist-packages (from lightfm) (1.4.1)\n",
            "Requirement already satisfied: requests in /usr/local/lib/python3.7/dist-packages (from lightfm) (2.23.0)\n",
            "Requirement already satisfied: scikit-learn in /usr/local/lib/python3.7/dist-packages (from lightfm) (0.22.2.post1)\n",
            "Requirement already satisfied: chardet<4,>=3.0.2 in /usr/local/lib/python3.7/dist-packages (from requests->lightfm) (3.0.4)\n",
            "Requirement already satisfied: urllib3!=1.25.0,!=1.25.1,<1.26,>=1.21.1 in /usr/local/lib/python3.7/dist-packages (from requests->lightfm) (1.24.3)\n",
            "Requirement already satisfied: certifi>=2017.4.17 in /usr/local/lib/python3.7/dist-packages (from requests->lightfm) (2021.5.30)\n",
            "Requirement already satisfied: idna<3,>=2.5 in /usr/local/lib/python3.7/dist-packages (from requests->lightfm) (2.10)\n",
            "Requirement already satisfied: joblib>=0.11 in /usr/local/lib/python3.7/dist-packages (from scikit-learn->lightfm) (1.0.1)\n",
            "Building wheels for collected packages: lightfm\n",
            "  Building wheel for lightfm (setup.py) ... \u001b[?25l\u001b[?25hdone\n",
            "  Created wheel for lightfm: filename=lightfm-1.16-cp37-cp37m-linux_x86_64.whl size=705354 sha256=97f7ef867b97b63d32ee86a4ac97552ac297d4bb39d7feecb50a73e644fb500a\n",
            "  Stored in directory: /root/.cache/pip/wheels/f8/56/28/5772a3bd3413d65f03aa452190b00898b680b10028a1021914\n",
            "Successfully built lightfm\n",
            "Installing collected packages: lightfm\n",
            "Successfully installed lightfm-1.16\n"
          ]
        }
      ]
    },
    {
      "cell_type": "markdown",
      "metadata": {
        "id": "yc_83hAsvTIl"
      },
      "source": [
        "В данной работе мы будем работать с explicit датасетом movieLens, в котором представленны пары user_id movie_id и rating выставленный пользователем фильму\n",
        "\n",
        "Скачать датасет можно по ссылке https://grouplens.org/datasets/movielens/1m/"
      ]
    },
    {
      "cell_type": "code",
      "metadata": {
        "colab": {
          "base_uri": "https://localhost:8080/",
          "height": 422
        },
        "id": "0sPUUlggvTIl",
        "outputId": "8f7bbc98-b60d-4d8a-f0b9-dbbd9d4d1fd7"
      },
      "source": [
        "ratings = pd.read_csv('ml-1m/ratings.dat', delimiter='::', header=None, \n",
        "        names=['user_id', 'movie_id', 'rating', 'timestamp'], \n",
        "        usecols=['user_id', 'movie_id', 'rating'], engine='python')\n",
        "ratings"
      ],
      "execution_count": 4,
      "outputs": [
        {
          "output_type": "execute_result",
          "data": {
            "text/html": [
              "<div>\n",
              "<style scoped>\n",
              "    .dataframe tbody tr th:only-of-type {\n",
              "        vertical-align: middle;\n",
              "    }\n",
              "\n",
              "    .dataframe tbody tr th {\n",
              "        vertical-align: top;\n",
              "    }\n",
              "\n",
              "    .dataframe thead th {\n",
              "        text-align: right;\n",
              "    }\n",
              "</style>\n",
              "<table border=\"1\" class=\"dataframe\">\n",
              "  <thead>\n",
              "    <tr style=\"text-align: right;\">\n",
              "      <th></th>\n",
              "      <th>user_id</th>\n",
              "      <th>movie_id</th>\n",
              "      <th>rating</th>\n",
              "    </tr>\n",
              "  </thead>\n",
              "  <tbody>\n",
              "    <tr>\n",
              "      <th>0</th>\n",
              "      <td>1</td>\n",
              "      <td>1193</td>\n",
              "      <td>5</td>\n",
              "    </tr>\n",
              "    <tr>\n",
              "      <th>1</th>\n",
              "      <td>1</td>\n",
              "      <td>661</td>\n",
              "      <td>3</td>\n",
              "    </tr>\n",
              "    <tr>\n",
              "      <th>2</th>\n",
              "      <td>1</td>\n",
              "      <td>914</td>\n",
              "      <td>3</td>\n",
              "    </tr>\n",
              "    <tr>\n",
              "      <th>3</th>\n",
              "      <td>1</td>\n",
              "      <td>3408</td>\n",
              "      <td>4</td>\n",
              "    </tr>\n",
              "    <tr>\n",
              "      <th>4</th>\n",
              "      <td>1</td>\n",
              "      <td>2355</td>\n",
              "      <td>5</td>\n",
              "    </tr>\n",
              "    <tr>\n",
              "      <th>...</th>\n",
              "      <td>...</td>\n",
              "      <td>...</td>\n",
              "      <td>...</td>\n",
              "    </tr>\n",
              "    <tr>\n",
              "      <th>1000204</th>\n",
              "      <td>6040</td>\n",
              "      <td>1091</td>\n",
              "      <td>1</td>\n",
              "    </tr>\n",
              "    <tr>\n",
              "      <th>1000205</th>\n",
              "      <td>6040</td>\n",
              "      <td>1094</td>\n",
              "      <td>5</td>\n",
              "    </tr>\n",
              "    <tr>\n",
              "      <th>1000206</th>\n",
              "      <td>6040</td>\n",
              "      <td>562</td>\n",
              "      <td>5</td>\n",
              "    </tr>\n",
              "    <tr>\n",
              "      <th>1000207</th>\n",
              "      <td>6040</td>\n",
              "      <td>1096</td>\n",
              "      <td>4</td>\n",
              "    </tr>\n",
              "    <tr>\n",
              "      <th>1000208</th>\n",
              "      <td>6040</td>\n",
              "      <td>1097</td>\n",
              "      <td>4</td>\n",
              "    </tr>\n",
              "  </tbody>\n",
              "</table>\n",
              "<p>1000209 rows × 3 columns</p>\n",
              "</div>"
            ],
            "text/plain": [
              "         user_id  movie_id  rating\n",
              "0              1      1193       5\n",
              "1              1       661       3\n",
              "2              1       914       3\n",
              "3              1      3408       4\n",
              "4              1      2355       5\n",
              "...          ...       ...     ...\n",
              "1000204     6040      1091       1\n",
              "1000205     6040      1094       5\n",
              "1000206     6040       562       5\n",
              "1000207     6040      1096       4\n",
              "1000208     6040      1097       4\n",
              "\n",
              "[1000209 rows x 3 columns]"
            ]
          },
          "metadata": {},
          "execution_count": 4
        }
      ]
    },
    {
      "cell_type": "code",
      "metadata": {
        "colab": {
          "base_uri": "https://localhost:8080/",
          "height": 422
        },
        "id": "G9_ti12qvTIm",
        "outputId": "cc92319d-1339-4788-a3b1-6f06180e2e45"
      },
      "source": [
        "movie_info = pd.read_csv('ml-1m/movies.dat', delimiter='::', header=None, \n",
        "        names=['movie_id', 'name', 'category'], engine='python')\n",
        "movie_info"
      ],
      "execution_count": 5,
      "outputs": [
        {
          "output_type": "execute_result",
          "data": {
            "text/html": [
              "<div>\n",
              "<style scoped>\n",
              "    .dataframe tbody tr th:only-of-type {\n",
              "        vertical-align: middle;\n",
              "    }\n",
              "\n",
              "    .dataframe tbody tr th {\n",
              "        vertical-align: top;\n",
              "    }\n",
              "\n",
              "    .dataframe thead th {\n",
              "        text-align: right;\n",
              "    }\n",
              "</style>\n",
              "<table border=\"1\" class=\"dataframe\">\n",
              "  <thead>\n",
              "    <tr style=\"text-align: right;\">\n",
              "      <th></th>\n",
              "      <th>movie_id</th>\n",
              "      <th>name</th>\n",
              "      <th>category</th>\n",
              "    </tr>\n",
              "  </thead>\n",
              "  <tbody>\n",
              "    <tr>\n",
              "      <th>0</th>\n",
              "      <td>1</td>\n",
              "      <td>Toy Story (1995)</td>\n",
              "      <td>Animation|Children's|Comedy</td>\n",
              "    </tr>\n",
              "    <tr>\n",
              "      <th>1</th>\n",
              "      <td>2</td>\n",
              "      <td>Jumanji (1995)</td>\n",
              "      <td>Adventure|Children's|Fantasy</td>\n",
              "    </tr>\n",
              "    <tr>\n",
              "      <th>2</th>\n",
              "      <td>3</td>\n",
              "      <td>Grumpier Old Men (1995)</td>\n",
              "      <td>Comedy|Romance</td>\n",
              "    </tr>\n",
              "    <tr>\n",
              "      <th>3</th>\n",
              "      <td>4</td>\n",
              "      <td>Waiting to Exhale (1995)</td>\n",
              "      <td>Comedy|Drama</td>\n",
              "    </tr>\n",
              "    <tr>\n",
              "      <th>4</th>\n",
              "      <td>5</td>\n",
              "      <td>Father of the Bride Part II (1995)</td>\n",
              "      <td>Comedy</td>\n",
              "    </tr>\n",
              "    <tr>\n",
              "      <th>...</th>\n",
              "      <td>...</td>\n",
              "      <td>...</td>\n",
              "      <td>...</td>\n",
              "    </tr>\n",
              "    <tr>\n",
              "      <th>3878</th>\n",
              "      <td>3948</td>\n",
              "      <td>Meet the Parents (2000)</td>\n",
              "      <td>Comedy</td>\n",
              "    </tr>\n",
              "    <tr>\n",
              "      <th>3879</th>\n",
              "      <td>3949</td>\n",
              "      <td>Requiem for a Dream (2000)</td>\n",
              "      <td>Drama</td>\n",
              "    </tr>\n",
              "    <tr>\n",
              "      <th>3880</th>\n",
              "      <td>3950</td>\n",
              "      <td>Tigerland (2000)</td>\n",
              "      <td>Drama</td>\n",
              "    </tr>\n",
              "    <tr>\n",
              "      <th>3881</th>\n",
              "      <td>3951</td>\n",
              "      <td>Two Family House (2000)</td>\n",
              "      <td>Drama</td>\n",
              "    </tr>\n",
              "    <tr>\n",
              "      <th>3882</th>\n",
              "      <td>3952</td>\n",
              "      <td>Contender, The (2000)</td>\n",
              "      <td>Drama|Thriller</td>\n",
              "    </tr>\n",
              "  </tbody>\n",
              "</table>\n",
              "<p>3883 rows × 3 columns</p>\n",
              "</div>"
            ],
            "text/plain": [
              "      movie_id  ...                      category\n",
              "0            1  ...   Animation|Children's|Comedy\n",
              "1            2  ...  Adventure|Children's|Fantasy\n",
              "2            3  ...                Comedy|Romance\n",
              "3            4  ...                  Comedy|Drama\n",
              "4            5  ...                        Comedy\n",
              "...        ...  ...                           ...\n",
              "3878      3948  ...                        Comedy\n",
              "3879      3949  ...                         Drama\n",
              "3880      3950  ...                         Drama\n",
              "3881      3951  ...                         Drama\n",
              "3882      3952  ...                Drama|Thriller\n",
              "\n",
              "[3883 rows x 3 columns]"
            ]
          },
          "metadata": {},
          "execution_count": 5
        }
      ]
    },
    {
      "cell_type": "markdown",
      "metadata": {
        "id": "zypB5SI5vTIm"
      },
      "source": [
        "Explicit данные"
      ]
    },
    {
      "cell_type": "code",
      "metadata": {
        "colab": {
          "base_uri": "https://localhost:8080/",
          "height": 362
        },
        "id": "FzfnTx-fvTIn",
        "outputId": "8393875c-0e4c-4ad4-8c63-db06dd7acf9d"
      },
      "source": [
        "ratings.head(10)"
      ],
      "execution_count": null,
      "outputs": [
        {
          "output_type": "execute_result",
          "data": {
            "text/html": [
              "<div>\n",
              "<style scoped>\n",
              "    .dataframe tbody tr th:only-of-type {\n",
              "        vertical-align: middle;\n",
              "    }\n",
              "\n",
              "    .dataframe tbody tr th {\n",
              "        vertical-align: top;\n",
              "    }\n",
              "\n",
              "    .dataframe thead th {\n",
              "        text-align: right;\n",
              "    }\n",
              "</style>\n",
              "<table border=\"1\" class=\"dataframe\">\n",
              "  <thead>\n",
              "    <tr style=\"text-align: right;\">\n",
              "      <th></th>\n",
              "      <th>user_id</th>\n",
              "      <th>movie_id</th>\n",
              "      <th>rating</th>\n",
              "    </tr>\n",
              "  </thead>\n",
              "  <tbody>\n",
              "    <tr>\n",
              "      <th>0</th>\n",
              "      <td>1</td>\n",
              "      <td>1193</td>\n",
              "      <td>5</td>\n",
              "    </tr>\n",
              "    <tr>\n",
              "      <th>1</th>\n",
              "      <td>1</td>\n",
              "      <td>661</td>\n",
              "      <td>3</td>\n",
              "    </tr>\n",
              "    <tr>\n",
              "      <th>2</th>\n",
              "      <td>1</td>\n",
              "      <td>914</td>\n",
              "      <td>3</td>\n",
              "    </tr>\n",
              "    <tr>\n",
              "      <th>3</th>\n",
              "      <td>1</td>\n",
              "      <td>3408</td>\n",
              "      <td>4</td>\n",
              "    </tr>\n",
              "    <tr>\n",
              "      <th>4</th>\n",
              "      <td>1</td>\n",
              "      <td>2355</td>\n",
              "      <td>5</td>\n",
              "    </tr>\n",
              "    <tr>\n",
              "      <th>5</th>\n",
              "      <td>1</td>\n",
              "      <td>1197</td>\n",
              "      <td>3</td>\n",
              "    </tr>\n",
              "    <tr>\n",
              "      <th>6</th>\n",
              "      <td>1</td>\n",
              "      <td>1287</td>\n",
              "      <td>5</td>\n",
              "    </tr>\n",
              "    <tr>\n",
              "      <th>7</th>\n",
              "      <td>1</td>\n",
              "      <td>2804</td>\n",
              "      <td>5</td>\n",
              "    </tr>\n",
              "    <tr>\n",
              "      <th>8</th>\n",
              "      <td>1</td>\n",
              "      <td>594</td>\n",
              "      <td>4</td>\n",
              "    </tr>\n",
              "    <tr>\n",
              "      <th>9</th>\n",
              "      <td>1</td>\n",
              "      <td>919</td>\n",
              "      <td>4</td>\n",
              "    </tr>\n",
              "  </tbody>\n",
              "</table>\n",
              "</div>"
            ],
            "text/plain": [
              "   user_id  movie_id  rating\n",
              "0        1      1193       5\n",
              "1        1       661       3\n",
              "2        1       914       3\n",
              "3        1      3408       4\n",
              "4        1      2355       5\n",
              "5        1      1197       3\n",
              "6        1      1287       5\n",
              "7        1      2804       5\n",
              "8        1       594       4\n",
              "9        1       919       4"
            ]
          },
          "metadata": {},
          "execution_count": 8
        }
      ]
    },
    {
      "cell_type": "markdown",
      "metadata": {
        "id": "SoU204TovTIo"
      },
      "source": [
        "Для того, чтобы преобразовать текущий датасет в Implicit, давайте считать что позитивная оценка это оценка >=4"
      ]
    },
    {
      "cell_type": "code",
      "metadata": {
        "id": "T41j1lgivTIo"
      },
      "source": [
        "implicit_ratings = ratings.loc[(ratings['rating'] >= 4)]"
      ],
      "execution_count": null,
      "outputs": []
    },
    {
      "cell_type": "code",
      "metadata": {
        "colab": {
          "base_uri": "https://localhost:8080/",
          "height": 355
        },
        "id": "Td8Ryv9rvTIp",
        "outputId": "6404ccf1-a83a-466c-faac-8ed8ce5f55d7"
      },
      "source": [
        "implicit_ratings.head(10)"
      ],
      "execution_count": null,
      "outputs": [
        {
          "output_type": "execute_result",
          "data": {
            "text/html": [
              "<div>\n",
              "<style scoped>\n",
              "    .dataframe tbody tr th:only-of-type {\n",
              "        vertical-align: middle;\n",
              "    }\n",
              "\n",
              "    .dataframe tbody tr th {\n",
              "        vertical-align: top;\n",
              "    }\n",
              "\n",
              "    .dataframe thead th {\n",
              "        text-align: right;\n",
              "    }\n",
              "</style>\n",
              "<table border=\"1\" class=\"dataframe\">\n",
              "  <thead>\n",
              "    <tr style=\"text-align: right;\">\n",
              "      <th></th>\n",
              "      <th>user_id</th>\n",
              "      <th>movie_id</th>\n",
              "      <th>rating</th>\n",
              "    </tr>\n",
              "  </thead>\n",
              "  <tbody>\n",
              "    <tr>\n",
              "      <th>0</th>\n",
              "      <td>1</td>\n",
              "      <td>1193</td>\n",
              "      <td>5</td>\n",
              "    </tr>\n",
              "    <tr>\n",
              "      <th>3</th>\n",
              "      <td>1</td>\n",
              "      <td>3408</td>\n",
              "      <td>4</td>\n",
              "    </tr>\n",
              "    <tr>\n",
              "      <th>4</th>\n",
              "      <td>1</td>\n",
              "      <td>2355</td>\n",
              "      <td>5</td>\n",
              "    </tr>\n",
              "    <tr>\n",
              "      <th>6</th>\n",
              "      <td>1</td>\n",
              "      <td>1287</td>\n",
              "      <td>5</td>\n",
              "    </tr>\n",
              "    <tr>\n",
              "      <th>7</th>\n",
              "      <td>1</td>\n",
              "      <td>2804</td>\n",
              "      <td>5</td>\n",
              "    </tr>\n",
              "    <tr>\n",
              "      <th>8</th>\n",
              "      <td>1</td>\n",
              "      <td>594</td>\n",
              "      <td>4</td>\n",
              "    </tr>\n",
              "    <tr>\n",
              "      <th>9</th>\n",
              "      <td>1</td>\n",
              "      <td>919</td>\n",
              "      <td>4</td>\n",
              "    </tr>\n",
              "    <tr>\n",
              "      <th>10</th>\n",
              "      <td>1</td>\n",
              "      <td>595</td>\n",
              "      <td>5</td>\n",
              "    </tr>\n",
              "    <tr>\n",
              "      <th>11</th>\n",
              "      <td>1</td>\n",
              "      <td>938</td>\n",
              "      <td>4</td>\n",
              "    </tr>\n",
              "    <tr>\n",
              "      <th>12</th>\n",
              "      <td>1</td>\n",
              "      <td>2398</td>\n",
              "      <td>4</td>\n",
              "    </tr>\n",
              "  </tbody>\n",
              "</table>\n",
              "</div>"
            ],
            "text/plain": [
              "    user_id  movie_id  rating\n",
              "0         1      1193       5\n",
              "3         1      3408       4\n",
              "4         1      2355       5\n",
              "6         1      1287       5\n",
              "7         1      2804       5\n",
              "8         1       594       4\n",
              "9         1       919       4\n",
              "10        1       595       5\n",
              "11        1       938       4\n",
              "12        1      2398       4"
            ]
          },
          "metadata": {},
          "execution_count": 8
        }
      ]
    },
    {
      "cell_type": "markdown",
      "metadata": {
        "id": "TM8rhnXyvTIp"
      },
      "source": [
        "Удобнее работать с sparse матричками, давайте преобразуем DataFrame в CSR матрицы"
      ]
    },
    {
      "cell_type": "code",
      "metadata": {
        "id": "NnxNfFyYvTIq"
      },
      "source": [
        "users = implicit_ratings[\"user_id\"]\n",
        "movies = implicit_ratings[\"movie_id\"]\n",
        "user_item = sp.coo_matrix((np.ones_like(users), (users, movies)))\n",
        "user_item_t_csr = user_item.T.tocsr()\n",
        "user_item_csr = user_item.tocsr()"
      ],
      "execution_count": null,
      "outputs": []
    },
    {
      "cell_type": "markdown",
      "metadata": {
        "id": "scFXy-zRvTIq"
      },
      "source": [
        "В качестве примера воспользуемся ALS разложением из библиотеки implicit\n",
        "\n",
        "Зададим размерность латентного пространства равным 64, это же определяет размер user/item эмбедингов"
      ]
    },
    {
      "cell_type": "code",
      "metadata": {
        "id": "bX32bo1OvTIr"
      },
      "source": [
        "model = implicit.als.AlternatingLeastSquares(factors=64, iterations=100, calculate_training_loss=True)"
      ],
      "execution_count": null,
      "outputs": []
    },
    {
      "cell_type": "markdown",
      "metadata": {
        "id": "NUccGvCNvTIr"
      },
      "source": [
        "В качестве loss здесь всеми любимый RMSE"
      ]
    },
    {
      "cell_type": "code",
      "metadata": {
        "colab": {
          "base_uri": "https://localhost:8080/",
          "height": 48,
          "referenced_widgets": [
            "b9e12ee6d9174df4b8e3b4f118f43b54",
            "e270cb681d7047d898fc6bc7de867e71",
            "26a25d75093044d891add21ba3edc433",
            "2763859519fb438a902c6767d9f6ec22",
            "bd0689ea12414e53a854504d240e45f4",
            "cdd2ef51e8334b859cbf829fb7773ac7",
            "13ca6c0f6f504626809499a2a3a9fa19",
            "f017ed96c91d4ac5a6d8ea19c0b1a1b9",
            "54390fc2fb9143a9ab6e8347048bff3d",
            "f339634b350944569a0d9889ce17c980",
            "509403acd5de47939677bb114c7fbf09"
          ]
        },
        "id": "FKuG2eyqvTIr",
        "outputId": "b2f49f42-b2d7-4cac-b857-311e620bd7d9"
      },
      "source": [
        "model.fit(user_item_t_csr)"
      ],
      "execution_count": null,
      "outputs": [
        {
          "output_type": "display_data",
          "data": {
            "application/vnd.jupyter.widget-view+json": {
              "model_id": "b9e12ee6d9174df4b8e3b4f118f43b54",
              "version_minor": 0,
              "version_major": 2
            },
            "text/plain": [
              "  0%|          | 0/100 [00:00<?, ?it/s]"
            ]
          },
          "metadata": {}
        }
      ]
    },
    {
      "cell_type": "markdown",
      "metadata": {
        "id": "cFoVR08DvTIr"
      },
      "source": [
        "Построим похожие фильмы по 1 movie_id = Истории игрушек"
      ]
    },
    {
      "cell_type": "code",
      "metadata": {
        "colab": {
          "base_uri": "https://localhost:8080/",
          "height": 202
        },
        "id": "vrw6pkOLvTIr",
        "outputId": "312e70f1-40cc-498f-d062-ccffccee32b1"
      },
      "source": [
        "movie_info.head(5)"
      ],
      "execution_count": null,
      "outputs": [
        {
          "output_type": "execute_result",
          "data": {
            "text/html": [
              "<div>\n",
              "<style scoped>\n",
              "    .dataframe tbody tr th:only-of-type {\n",
              "        vertical-align: middle;\n",
              "    }\n",
              "\n",
              "    .dataframe tbody tr th {\n",
              "        vertical-align: top;\n",
              "    }\n",
              "\n",
              "    .dataframe thead th {\n",
              "        text-align: right;\n",
              "    }\n",
              "</style>\n",
              "<table border=\"1\" class=\"dataframe\">\n",
              "  <thead>\n",
              "    <tr style=\"text-align: right;\">\n",
              "      <th></th>\n",
              "      <th>movie_id</th>\n",
              "      <th>name</th>\n",
              "      <th>category</th>\n",
              "    </tr>\n",
              "  </thead>\n",
              "  <tbody>\n",
              "    <tr>\n",
              "      <th>0</th>\n",
              "      <td>1</td>\n",
              "      <td>Toy Story (1995)</td>\n",
              "      <td>Animation|Children's|Comedy</td>\n",
              "    </tr>\n",
              "    <tr>\n",
              "      <th>1</th>\n",
              "      <td>2</td>\n",
              "      <td>Jumanji (1995)</td>\n",
              "      <td>Adventure|Children's|Fantasy</td>\n",
              "    </tr>\n",
              "    <tr>\n",
              "      <th>2</th>\n",
              "      <td>3</td>\n",
              "      <td>Grumpier Old Men (1995)</td>\n",
              "      <td>Comedy|Romance</td>\n",
              "    </tr>\n",
              "    <tr>\n",
              "      <th>3</th>\n",
              "      <td>4</td>\n",
              "      <td>Waiting to Exhale (1995)</td>\n",
              "      <td>Comedy|Drama</td>\n",
              "    </tr>\n",
              "    <tr>\n",
              "      <th>4</th>\n",
              "      <td>5</td>\n",
              "      <td>Father of the Bride Part II (1995)</td>\n",
              "      <td>Comedy</td>\n",
              "    </tr>\n",
              "  </tbody>\n",
              "</table>\n",
              "</div>"
            ],
            "text/plain": [
              "   movie_id                                name                      category\n",
              "0         1                    Toy Story (1995)   Animation|Children's|Comedy\n",
              "1         2                      Jumanji (1995)  Adventure|Children's|Fantasy\n",
              "2         3             Grumpier Old Men (1995)                Comedy|Romance\n",
              "3         4            Waiting to Exhale (1995)                  Comedy|Drama\n",
              "4         5  Father of the Bride Part II (1995)                        Comedy"
            ]
          },
          "metadata": {},
          "execution_count": 12
        }
      ]
    },
    {
      "cell_type": "code",
      "metadata": {
        "id": "r-MY9QM-vTIs"
      },
      "source": [
        "get_similars = lambda item_id, model : [movie_info[movie_info[\"movie_id\"] == x[0]][\"name\"].to_string() \n",
        "                                        for x in model.similar_items(item_id)]"
      ],
      "execution_count": null,
      "outputs": []
    },
    {
      "cell_type": "markdown",
      "metadata": {
        "id": "0g_wD9TXvTIs"
      },
      "source": [
        "Как мы видим, симилары действительно оказались симиларами.\n",
        "\n",
        "Качество симиларов часто является хорошим способом проверить качество алгоритмов.\n",
        "\n",
        "P.S. Если хочется поглубже разобраться в том как разные алгоритмы формируют разные латентные пространства, рекомендую загружать полученные вектора в tensorBoard и смотреть на сформированное пространство"
      ]
    },
    {
      "cell_type": "code",
      "metadata": {
        "colab": {
          "base_uri": "https://localhost:8080/"
        },
        "id": "W1zSJWLMvTIs",
        "outputId": "97828efe-fefc-4292-9b5b-e5f235078981"
      },
      "source": [
        "get_similars(1, model)"
      ],
      "execution_count": null,
      "outputs": [
        {
          "output_type": "stream",
          "name": "stderr",
          "text": [
            "/usr/local/lib/python3.7/dist-packages/implicit/gpu/matrix_factorization_base.py:108: RuntimeWarning: invalid value encountered in true_divide\n",
            "  scores /= self._item_norms_host[itemid]\n"
          ]
        },
        {
          "output_type": "execute_result",
          "data": {
            "text/plain": [
              "['Series([], )',\n",
              " 'Series([], )',\n",
              " 'Series([], )',\n",
              " 'Series([], )',\n",
              " 'Series([], )',\n",
              " 'Series([], )',\n",
              " 'Series([], )',\n",
              " 'Series([], )',\n",
              " 'Series([], )',\n",
              " 'Series([], )']"
            ]
          },
          "metadata": {},
          "execution_count": 14
        }
      ]
    },
    {
      "cell_type": "markdown",
      "metadata": {
        "id": "tZ0uh058vTIt"
      },
      "source": [
        "Давайте теперь построим рекомендации для юзеров\n",
        "\n",
        "Как мы видим юзеру нравится фантастика, значит и в рекомендациях ожидаем увидеть фантастику"
      ]
    },
    {
      "cell_type": "code",
      "metadata": {
        "id": "z0Mdceb5vTIt"
      },
      "source": [
        "get_user_history = lambda user_id, implicit_ratings : [movie_info[movie_info[\"movie_id\"] == x][\"name\"].to_string() \n",
        "                                            for x in implicit_ratings[implicit_ratings[\"user_id\"] == user_id][\"movie_id\"]]"
      ],
      "execution_count": null,
      "outputs": []
    },
    {
      "cell_type": "code",
      "metadata": {
        "colab": {
          "base_uri": "https://localhost:8080/"
        },
        "id": "7Z7exNZ3vTIt",
        "outputId": "470bc0a7-f0e1-47cb-9c36-c8f1ed439a8f"
      },
      "source": [
        "get_user_history(4, implicit_ratings)"
      ],
      "execution_count": null,
      "outputs": [
        {
          "output_type": "execute_result",
          "data": {
            "text/plain": [
              "['3399    Hustler, The (1961)',\n",
              " '2882    Fistful of Dollars, A (1964)',\n",
              " '1196    Alien (1979)',\n",
              " '1023    Die Hard (1988)',\n",
              " '257    Star Wars: Episode IV - A New Hope (1977)',\n",
              " '1959    Saving Private Ryan (1998)',\n",
              " '476    Jurassic Park (1993)',\n",
              " '1180    Raiders of the Lost Ark (1981)',\n",
              " '1885    Rocky (1976)',\n",
              " '1081    E.T. the Extra-Terrestrial (1982)',\n",
              " '3349    Thelma & Louise (1991)',\n",
              " '3633    Mad Max (1979)',\n",
              " '2297    King Kong (1933)',\n",
              " '1366    Jaws (1975)',\n",
              " '1183    Good, The Bad and The Ugly, The (1966)',\n",
              " '2623    Run Lola Run (Lola rennt) (1998)',\n",
              " '2878    Goldfinger (1964)',\n",
              " '1220    Terminator, The (1984)']"
            ]
          },
          "metadata": {},
          "execution_count": 16
        }
      ]
    },
    {
      "cell_type": "markdown",
      "metadata": {
        "id": "NLcv4pQYvTIt"
      },
      "source": [
        "Получилось! \n",
        "\n",
        "Мы действительно порекомендовали пользователю фантастику и боевики, более того встречаются продолжения тех фильмов, которые он высоко оценил"
      ]
    },
    {
      "cell_type": "code",
      "metadata": {
        "id": "Hr7bYlSQvTIu"
      },
      "source": [
        "get_recommendations = lambda user_id, model : [movie_info[movie_info[\"movie_id\"] == x[0]][\"name\"].to_string() \n",
        "                                               for x in model.recommend(user_id, user_item_csr)]"
      ],
      "execution_count": null,
      "outputs": []
    },
    {
      "cell_type": "code",
      "metadata": {
        "id": "oyWHP8KevTIu",
        "colab": {
          "base_uri": "https://localhost:8080/"
        },
        "outputId": "3109d4c2-fbd1-489f-9f57-91ffc9310ee9"
      },
      "source": [
        "get_recommendations(4, model)"
      ],
      "execution_count": null,
      "outputs": [
        {
          "output_type": "execute_result",
          "data": {
            "text/plain": [
              "['Series([], )',\n",
              " 'Series([], )',\n",
              " 'Series([], )',\n",
              " 'Series([], )',\n",
              " 'Series([], )',\n",
              " 'Series([], )',\n",
              " 'Series([], )',\n",
              " 'Series([], )',\n",
              " 'Series([], )',\n",
              " 'Series([], )']"
            ]
          },
          "metadata": {},
          "execution_count": 18
        }
      ]
    },
    {
      "cell_type": "markdown",
      "metadata": {
        "id": "x3i3McyBvTIu"
      },
      "source": [
        "Теперь ваша очередь реализовать самые популярные алгоритмы матричных разложений\n",
        "\n",
        "Что будет оцениваться:\n",
        "1. Корректность алгоритма\n",
        "2. Качество получившихся симиларов\n",
        "3. Качество итоговых рекомендаций для юзера"
      ]
    },
    {
      "cell_type": "markdown",
      "metadata": {
        "id": "sDon4NWkGJf0"
      },
      "source": [
        "Заведем функцию для similars:"
      ]
    },
    {
      "cell_type": "code",
      "metadata": {
        "id": "7_zwVuhCGA2r"
      },
      "source": [
        "def get_similars(item_id, model):\n",
        "    movie_id = movie_info[movie_info[\"movie_id\"] == item_id]\n",
        "    print(f\"Similar to {movie_id['name'].item()} with category {movie_id['category'].item()}:\")\n",
        "      \n",
        "    similarities = model.similar_items(item_id)\n",
        "    \n",
        "    for number, sim_movie_id in enumerate(similarities):\n",
        "        _movie = movie_info[movie_info[\"movie_id\"] == sim_movie_id]\n",
        "        print(f\"{number + 1}) {_movie['name'].item()} with category {_movie['category'].item()}\")"
      ],
      "execution_count": 6,
      "outputs": []
    },
    {
      "cell_type": "markdown",
      "metadata": {
        "id": "t94FhFTnGS1B"
      },
      "source": [
        "Заведем функцию для рекомендаций для конкретного user-a:"
      ]
    },
    {
      "cell_type": "code",
      "metadata": {
        "id": "rXB2YmFJGasx"
      },
      "source": [
        "def get_recommendations(user_id, model):\n",
        "    print(f\"Reccomend for user {user_id}:\")\n",
        "      \n",
        "    recommends = model.recommend(user_id)\n",
        "    \n",
        "    for number, recommend_movie in enumerate(recommends):\n",
        "        _movie = movie_info[movie_info[\"movie_id\"] == recommend_movie]\n",
        "        print(f\"{number + 1}) {_movie['name'].item()} with category {_movie['category'].item()}\")"
      ],
      "execution_count": 7,
      "outputs": []
    },
    {
      "cell_type": "markdown",
      "metadata": {
        "id": "y4Rr-eORHaNK"
      },
      "source": [
        "Функция для построения графика loss:"
      ]
    },
    {
      "cell_type": "code",
      "metadata": {
        "id": "D5PQKZxaHgO0"
      },
      "source": [
        "def get_plot_of_loss(_values):\n",
        "    x = np.arange(0, len(_values))\n",
        "    plt.xlabel(\"iterations\")\n",
        "    plt.ylabel(\"rmse\")\n",
        "    plt.plot(x, _values)\n",
        "    plt.show()"
      ],
      "execution_count": 8,
      "outputs": []
    },
    {
      "cell_type": "markdown",
      "metadata": {
        "id": "eCz-OOXcvTIu"
      },
      "source": [
        "### Задание 1. Не использую готовые решения, реализовать SVD разложение используя SGD на explicit данных"
      ]
    },
    {
      "cell_type": "code",
      "metadata": {
        "id": "umCyLTEMvTIu"
      },
      "source": [
        "import numpy as np\n",
        "from tqdm import tqdm"
      ],
      "execution_count": 9,
      "outputs": []
    },
    {
      "cell_type": "code",
      "metadata": {
        "colab": {
          "base_uri": "https://localhost:8080/"
        },
        "id": "dwfV4J9jBZ5y",
        "outputId": "d0845b74-9387-472f-ea50-232c70ef7ae1"
      },
      "source": [
        "ratings[\"rating\"].mean()"
      ],
      "execution_count": 10,
      "outputs": [
        {
          "output_type": "execute_result",
          "data": {
            "text/plain": [
              "3.581564453029317"
            ]
          },
          "metadata": {},
          "execution_count": 10
        }
      ]
    },
    {
      "cell_type": "code",
      "metadata": {
        "id": "ctyweT3dxgGa"
      },
      "source": [
        "movies = np.array(ratings[\"movie_id\"].unique())\n",
        "users = np.array(ratings[\"user_id\"].unique())\n",
        "\n",
        "\n",
        "# нумеруем user_id для строчек матрицы\n",
        "dict_users = {}\n",
        "dict__reverse_users = {} \n",
        "for i in range(len(users)):\n",
        "  dict_users[users[i]] = i\n",
        "  dict__reverse_users[i] = users[i]\n",
        "\n",
        "# нумеруем movie_id для столбцов матрицы\n",
        "dict_movies = {}\n",
        "dict__reverse_movies = {} \n",
        "for i in range(len(movies)):\n",
        "  dict_movies[movies[i]] = i\n",
        "  dict__reverse_movies[i] = movies[i]"
      ],
      "execution_count": 11,
      "outputs": []
    },
    {
      "cell_type": "code",
      "metadata": {
        "id": "ekzsiWY0UyxM"
      },
      "source": [
        "from sklearn.metrics.pairwise import cosine_similarity\n",
        "\n",
        "class SVD_model:\n",
        "    def __init__(self, alpha:float, weight_decay, epochs=60, hidden_dim=64):\n",
        "        self.alpha = alpha\n",
        "        self.epochs = epochs\n",
        "        self.hidden_dim = hidden_dim\n",
        "        self.weight_decay = weight_decay\n",
        "        self.b_u = 1\n",
        "        self.b_v = 2\n",
        "        self.mu = 3.5\n",
        "        self.losses = []\n",
        "    \n",
        "    def fit(self, user_movie_sparse):\n",
        "        self.losses = []\n",
        "   \n",
        "        self.u = np.random.normal(loc=0, scale=1, size=(user_movie_sparse.shape[0], self.hidden_dim))\n",
        "        self.v = np.random.normal(loc=0, scale=1, size=(user_movie_sparse.shape[1], self.hidden_dim))\n",
        "\n",
        "        for i in tqdm(range(self.epochs)):\n",
        "            dQ = 2 * np.asarray(self.u @ self.v.T + self.b_u + self.b_v + self.mu  - user_movie_sparse)\n",
        "\n",
        "            delta_L_u = dQ @ self.v + self.weight_decay * self.u\n",
        "            delta_L_v = dQ.T @ self.u + self.weight_decay * self.v \n",
        "\n",
        "            self.u -= self.alpha * delta_L_u\n",
        "            self.v -= self.alpha * delta_L_v\n",
        "            self.losses.append(np.sqrt(np.sqrt(np.mean(dQ ** 2))))\n",
        "\n",
        "  \n",
        "    def similar_items(self, item_id, n=10):\n",
        "        sims = cosine_similarity(self.v)[item_id]\n",
        "        return np.argsort(sims)[-(n + 1) : -1][::-1]\n",
        "\n",
        "\n",
        "    def recommend(self, user_id, n=10):\n",
        "\n",
        "        sims = cosine_similarity(self.v, self.u[user_id][np.newaxis, :]).flatten()\n",
        "        return np.argsort(sims)[-(n + 1) : -1][::-1]\n",
        "\n"
      ],
      "execution_count": 12,
      "outputs": []
    },
    {
      "cell_type": "code",
      "metadata": {
        "colab": {
          "base_uri": "https://localhost:8080/"
        },
        "id": "Ka4VRkphS61s",
        "outputId": "ad2024bd-7135-4527-e067-6482b669e45c"
      },
      "source": [
        "import numpy as np\n",
        "\n",
        "user_movie_sparse = sp.coo_matrix((ratings[\"rating\"], (ratings[\"user_id\"], ratings[\"movie_id\"])))\n",
        "\n",
        "regr = SVD_model(alpha=0.00001, weight_decay=1e-2, epochs=1000)\n",
        "regr.fit(user_movie_sparse)"
      ],
      "execution_count": 13,
      "outputs": [
        {
          "output_type": "stream",
          "name": "stderr",
          "text": [
            "100%|██████████| 1000/1000 [11:26<00:00,  1.46it/s]\n"
          ]
        }
      ]
    },
    {
      "cell_type": "code",
      "metadata": {
        "colab": {
          "base_uri": "https://localhost:8080/",
          "height": 279
        },
        "id": "SD-naB9zJiyB",
        "outputId": "a3022044-36a8-4de0-c9c3-ccb33df66f43"
      },
      "source": [
        "import matplotlib.pyplot as plt\n",
        "\n",
        "get_plot_of_loss(regr.losses)"
      ],
      "execution_count": 14,
      "outputs": [
        {
          "output_type": "display_data",
          "data": {
            "image/png": "[encoded data removed]",
            "text/plain": [
              "<Figure size 432x288 with 1 Axes>"
            ]
          },
          "metadata": {
            "needs_background": "light"
          }
        }
      ]
    },
    {
      "cell_type": "code",
      "metadata": {
        "colab": {
          "base_uri": "https://localhost:8080/"
        },
        "id": "NUQiN6L5jNmb",
        "outputId": "99c99a23-f187-4c58-f46e-d6c8e6122a0c"
      },
      "source": [
        "get_similars(2, regr)"
      ],
      "execution_count": 15,
      "outputs": [
        {
          "output_type": "stream",
          "name": "stdout",
          "text": [
            "Similar to Jumanji (1995) with category Adventure|Children's|Fantasy:\n",
            "1) Hook (1991) with category Adventure|Fantasy\n",
            "2) Three Musketeers, The (1993) with category Action|Adventure|Comedy\n",
            "3) Dragonheart (1996) with category Action|Adventure|Fantasy\n",
            "4) Batman Forever (1995) with category Action|Adventure|Comedy|Crime\n",
            "5) Santa Clause, The (1994) with category Children's|Comedy|Fantasy\n",
            "6) Antz (1998) with category Animation|Children's\n",
            "7) Nutty Professor, The (1996) with category Comedy|Fantasy|Romance|Sci-Fi\n",
            "8) Teenage Mutant Ninja Turtles (1990) with category Action|Children's|Fantasy\n",
            "9) Coneheads (1993) with category Comedy|Sci-Fi\n",
            "10) Space Jam (1996) with category Adventure|Animation|Children's|Comedy|Fantasy\n"
          ]
        }
      ]
    },
    {
      "cell_type": "code",
      "metadata": {
        "colab": {
          "base_uri": "https://localhost:8080/"
        },
        "id": "oKa63oC0J5lr",
        "outputId": "92b64243-bddd-4f7b-c393-9e319a8b390c"
      },
      "source": [
        "get_recommendations(4, regr)"
      ],
      "execution_count": 16,
      "outputs": [
        {
          "output_type": "stream",
          "name": "stdout",
          "text": [
            "Reccomend for user 4:\n",
            "1) Star Wars: Episode V - The Empire Strikes Back (1980) with category Action|Adventure|Drama|Sci-Fi|War\n",
            "2) Matrix, The (1999) with category Action|Sci-Fi|Thriller\n",
            "3) Terminator, The (1984) with category Action|Sci-Fi|Thriller\n",
            "4) Aliens (1986) with category Action|Sci-Fi|Thriller|War\n",
            "5) Terminator 2: Judgment Day (1991) with category Action|Sci-Fi|Thriller\n",
            "6) Alien (1979) with category Action|Horror|Sci-Fi|Thriller\n",
            "7) Star Wars: Episode VI - Return of the Jedi (1983) with category Action|Adventure|Romance|Sci-Fi|War\n",
            "8) Raiders of the Lost Ark (1981) with category Action|Adventure\n",
            "9) Star Trek: The Wrath of Khan (1982) with category Action|Adventure|Sci-Fi\n",
            "10) Blade Runner (1982) with category Film-Noir|Sci-Fi\n"
          ]
        }
      ]
    },
    {
      "cell_type": "markdown",
      "metadata": {
        "id": "F-b2TJuTvTIu"
      },
      "source": [
        "### Задание 2. Не использую готовые решения, реализовать матричное разложение используя ALS на implicit данных"
      ]
    },
    {
      "cell_type": "code",
      "metadata": {
        "id": "I76__H9gg57L"
      },
      "source": [
        "# movies = np.array(implicit_ratings[\"movie_id\"].unique())\n",
        "# users = np.array(implicit_ratings[\"user_id\"].unique())\n",
        "# dict_users = {}\n",
        "\n",
        "# for i in range(len(users)):\n",
        "#   dict_users[users[i]] = i\n",
        "\n",
        "# dict_movies = {} \n",
        "# for i in range(len(movies)):\n",
        "#   dict_movies[movies[i]] = i\n",
        "\n",
        "# mov_users_implicit = np.full(shape=[len(users), len(movies)], fill_value=0)\n",
        "\n",
        "# movies = np.array(implicit_ratings[\"movie_id\"])\n",
        "# users = np.array(implicit_ratings[\"user_id\"])\n",
        "# rank = np.array(implicit_ratings[\"rating\"])\n",
        "\n",
        "# for ind, row in implicit_ratings.iterrows():\n",
        "#     user_id = row[\"user_id\"]\n",
        "#     movie_id = row[\"movie_id\"]\n",
        "#     rating = row[\"rating\"]\n",
        "#     i_ = dict_users[user_id]\n",
        "#     j_ = dict_movies[movie_id]\n",
        "\n",
        "#     mov_users_implicit[i_][j_] = rating"
      ],
      "execution_count": 17,
      "outputs": []
    },
    {
      "cell_type": "code",
      "metadata": {
        "id": "e6PcNOmevTIv"
      },
      "source": [
        "class ALS_model:\n",
        "    def __init__(self, alpha:float, weight_decay, epochs=60, hidden_dim=64):\n",
        "        self.alpha = alpha\n",
        "        self.epochs = epochs\n",
        "        self.hidden_dim = hidden_dim\n",
        "        self.weight_decay = weight_decay\n",
        "        self.losses = []\n",
        "    \n",
        "    def fit(self, user_movie_sparse):\n",
        "        self.losses = []\n",
        "        \n",
        "        self.u = np.random.normal(loc=0, scale=1, size=(user_movie_sparse.shape[0], self.hidden_dim))\n",
        "        self.v = np.random.normal(loc=0, scale=1, size=(user_movie_sparse.shape[1], self.hidden_dim))\n",
        "\n",
        "        for i in tqdm(range(self.epochs)):\n",
        "            score = np.asarray(self.u @ self.v.T - user_movie_sparse)\n",
        "\n",
        "            if i % 2 == 0:\n",
        "                delta_L_u = 2 * (score @ self.v + self.weight_decay * self.u)\n",
        "                delta_L_v = 0\n",
        "            else:\n",
        "                delta_L_u = 0\n",
        "                delta_L_v = 2 * (score.T @ self.u + self.weight_decay *self.v)\n",
        "\n",
        "            self.u -= self.alpha * delta_L_u\n",
        "            self.v -= self.alpha * delta_L_v\n",
        "            self.losses.append(np.sqrt(np.mean(score ** 2)))\n",
        "\n",
        "    def similar_items(self, item_id, n=10):\n",
        "        sims = cosine_similarity(self.v)[item_id]\n",
        "        return np.argsort(sims)[-(n + 1) : -1][::-1]\n",
        "\n",
        "\n",
        "    def recommend(self, user_id, n=10):\n",
        "        sims = cosine_similarity(self.v, self.u[user_id][np.newaxis, :]).flatten()\n",
        "        return np.argsort(sims)[-(n + 1) : -1][::-1]"
      ],
      "execution_count": 18,
      "outputs": []
    },
    {
      "cell_type": "code",
      "metadata": {
        "colab": {
          "base_uri": "https://localhost:8080/"
        },
        "id": "QFAA7Jn2fTFo",
        "outputId": "cef88bae-7b3f-4774-98f2-ac96b6de900e"
      },
      "source": [
        "import numpy as np\n",
        "\n",
        "als_model = ALS_model(alpha=0.0001, epochs=1000, weight_decay=1e-2)\n",
        "als_model.fit(user_movie_sparse)"
      ],
      "execution_count": 19,
      "outputs": [
        {
          "output_type": "stream",
          "name": "stderr",
          "text": [
            "100%|██████████| 1000/1000 [07:13<00:00,  2.30it/s]\n"
          ]
        }
      ]
    },
    {
      "cell_type": "code",
      "metadata": {
        "colab": {
          "base_uri": "https://localhost:8080/",
          "height": 279
        },
        "id": "5jMlqd4aOYy8",
        "outputId": "e34a3459-2e10-45b6-cb2f-71d2523c6367"
      },
      "source": [
        "get_plot_of_loss(als_model.losses)"
      ],
      "execution_count": 20,
      "outputs": [
        {
          "output_type": "display_data",
          "data": {
            "image/png": "[encoded data removed]",
            "text/plain": [
              "<Figure size 432x288 with 1 Axes>"
            ]
          },
          "metadata": {
            "needs_background": "light"
          }
        }
      ]
    },
    {
      "cell_type": "code",
      "metadata": {
        "id": "BMyXYYKJfTS3",
        "colab": {
          "base_uri": "https://localhost:8080/"
        },
        "outputId": "d007c134-1a6c-46fc-ac22-7cb0c3d322c9"
      },
      "source": [
        "get_similars(1, regr)"
      ],
      "execution_count": 21,
      "outputs": [
        {
          "output_type": "stream",
          "name": "stdout",
          "text": [
            "Similar to Toy Story (1995) with category Animation|Children's|Comedy:\n",
            "1) Aladdin (1992) with category Animation|Children's|Comedy|Musical\n",
            "2) Toy Story 2 (1999) with category Animation|Children's|Comedy\n",
            "3) Groundhog Day (1993) with category Comedy|Romance\n",
            "4) Bug's Life, A (1998) with category Animation|Children's|Comedy\n",
            "5) Willy Wonka and the Chocolate Factory (1971) with category Adventure|Children's|Comedy|Fantasy\n",
            "6) Wayne's World (1992) with category Comedy\n",
            "7) Lion King, The (1994) with category Animation|Children's|Musical\n",
            "8) Austin Powers: International Man of Mystery (1997) with category Comedy\n",
            "9) Ferris Bueller's Day Off (1986) with category Comedy\n",
            "10) Big (1988) with category Comedy|Fantasy\n"
          ]
        }
      ]
    },
    {
      "cell_type": "code",
      "metadata": {
        "colab": {
          "base_uri": "https://localhost:8080/"
        },
        "id": "Q5c2abd1Xnjf",
        "outputId": "00b69bc7-6f1b-4a08-9ab3-fe2f8314f70d"
      },
      "source": [
        "get_recommendations(1, regr)"
      ],
      "execution_count": 22,
      "outputs": [
        {
          "output_type": "stream",
          "name": "stdout",
          "text": [
            "Reccomend for user 1:\n",
            "1) Star Wars: Episode V - The Empire Strikes Back (1980) with category Action|Adventure|Drama|Sci-Fi|War\n",
            "2) Back to the Future (1985) with category Comedy|Sci-Fi\n",
            "3) Princess Bride, The (1987) with category Action|Adventure|Comedy|Romance\n",
            "4) Shakespeare in Love (1998) with category Comedy|Romance\n",
            "5) Star Wars: Episode VI - Return of the Jedi (1983) with category Action|Adventure|Romance|Sci-Fi|War\n",
            "6) Matrix, The (1999) with category Action|Sci-Fi|Thriller\n",
            "7) Groundhog Day (1993) with category Comedy|Romance\n",
            "8) Toy Story (1995) with category Animation|Children's|Comedy\n",
            "9) Raiders of the Lost Ark (1981) with category Action|Adventure\n",
            "10) American Beauty (1999) with category Comedy|Drama\n"
          ]
        }
      ]
    },
    {
      "cell_type": "code",
      "metadata": {
        "id": "LEATL9wzOUHJ"
      },
      "source": [
        ""
      ],
      "execution_count": null,
      "outputs": []
    },
    {
      "cell_type": "markdown",
      "metadata": {
        "id": "C8LwtA9ivTIv"
      },
      "source": [
        "### Задание 3. Не использую готовые решения, реализовать матричное разложение BPR на implicit данных"
      ]
    },
    {
      "cell_type": "code",
      "metadata": {
        "id": "HlY7bLJ2vTIv"
      },
      "source": [
        "from collections import defaultdict\n",
        "# movies = np.array(implicit_ratings[\"movie_id\"])\n",
        "# users = np.array(implicit_ratings[\"user_id\"])\n",
        "\n",
        "\n",
        "movies = np.array(ratings[\"movie_id\"].unique())\n",
        "users = np.array(ratings[\"user_id\"].unique())\n",
        "\n",
        "mov_users_data = np.full(shape=[len(users), len(movies)], fill_value=0)\n",
        "\n",
        "dict_users = {}\n",
        "for i in range(len(users)):\n",
        "  dict_users[users[i]] = i\n",
        "\n",
        "dict_movies = {} \n",
        "for i in range(len(movies)):\n",
        "  dict_movies[movies[i]] = i\n",
        "\n",
        "\n",
        "positives = defaultdict(list)\n",
        "negatives = defaultdict(list)\n",
        "\n",
        "for user_id, df in ratings.groupby(\"user_id\"):\n",
        "    positives[user_id] = np.array(list([df[df['rating'] >= 4]['movie_id'].values])).flatten()\n",
        "    negatives[user_id] = np.array(list([df[df['rating'] < 4]['movie_id'].values])).flatten()"
      ],
      "execution_count": 23,
      "outputs": []
    },
    {
      "cell_type": "code",
      "metadata": {
        "colab": {
          "base_uri": "https://localhost:8080/"
        },
        "id": "_Li43uAfWH3j",
        "outputId": "579ec8f0-c6f7-49e0-b36a-a127de590be2"
      },
      "source": [
        "mov_users_data.shape"
      ],
      "execution_count": 24,
      "outputs": [
        {
          "output_type": "execute_result",
          "data": {
            "text/plain": [
              "(6040, 3706)"
            ]
          },
          "metadata": {},
          "execution_count": 24
        }
      ]
    },
    {
      "cell_type": "code",
      "metadata": {
        "id": "jQv7LpFxAZVN"
      },
      "source": [
        "import numpy as np\n",
        "from tqdm import tqdm\n"
      ],
      "execution_count": 25,
      "outputs": []
    },
    {
      "cell_type": "code",
      "metadata": {
        "id": "OFBx215EBKWQ"
      },
      "source": [
        "class BPR:\n",
        "    def __init__(self, alpha:float, epochs=60, lambda_=0.01, hidden_dim=64):\n",
        "        self.alpha = alpha\n",
        "        self.epochs = epochs\n",
        "        self.hidden_dim = hidden_dim\n",
        "        self.lambda_ = lambda_\n",
        "        self.losses = []\n",
        "\n",
        "    def get_negative_item(self, user, movies, count):\n",
        "        if len(negatives[user]) == 0:\n",
        "            for movie in movies:\n",
        "                if not movie in positives[user]:\n",
        "                    negatives[user] = np.array([movie])\n",
        "                    break\n",
        "\n",
        "        return np.random.choice(negatives[user], count)\n",
        "\n",
        "    def get_positive_item(self, user, movies, count):\n",
        "        if len(positives[user]) == 0:\n",
        "            for movie in movies:\n",
        "                if not movie in negatives[user]:\n",
        "                    positives[user] = np.array([movie])\n",
        "                    break\n",
        "\n",
        "        return np.random.choice(positives[user], count)\n",
        "\n",
        "    def get_correct_item_ids(self, user, movies, dict_movies, count):\n",
        "\n",
        "        positive_ids = self.get_positive_item(user, movies, count=count)\n",
        "        negative_ids = self.get_negative_item(user, movies, count=count)\n",
        "\n",
        "        positive_ids = np.array(list(dict_movies[k] for k in positive_ids))\n",
        "        negative_ids = np.array(list(dict_movies[k] for k in negative_ids))\n",
        "        return positive_ids, negative_ids\n",
        "\n",
        "\n",
        "    def fit(self, ratings):\n",
        "        self.losses = []\n",
        "        movies = np.array(ratings[\"movie_id\"].unique())\n",
        "\n",
        "        dict_movies = {}\n",
        "        for i in  range(len(movies)):\n",
        "            dict_movies[movies[i]] = i\n",
        "\n",
        "        users = np.array(ratings[\"user_id\"].unique())\n",
        "\n",
        "        positives_emb = np.random.normal(size=(len(users), self.hidden_dim))\n",
        "        self.u = np.random.normal(loc=0, scale=1, size=(len(users), self.hidden_dim))\n",
        "        self.v = np.random.normal(loc=0, scale=1, size=(len(movies), self.hidden_dim))\n",
        "\n",
        "        for i in tqdm(range(self.epochs)): \n",
        "\n",
        "            positive_user_items = {}\n",
        "            negative_user_items = {} \n",
        "\n",
        "            # sum exp(-x)/(1+exp(-x)) = -1/(exp(sum(x))+1)\n",
        "            # sum(x_uij) = sum(x_ui - x_uj)\n",
        "            # x_ui = U @ V_pos.T\n",
        "            # x_uj = U @ V_neg.T\n",
        "            sum_diff = 0\n",
        "            for j in range(len(users)):\n",
        "                positive_ids, negative_ids = self.get_correct_item_ids(users[j], movies, dict_movies, count=32)\n",
        "\n",
        "                positive_user_items[j] = positive_ids\n",
        "                negative_user_items[j] = negative_ids\n",
        "\n",
        "                sum_diff += self.u[j] @ (self.v[positive_ids] - self.v[negative_ids]).T\n",
        "            sum_diff = np.array(sum_diff, dtype=np.float128)\n",
        "            numerator = 1.0 / (1.0 + np.exp(sum_diff))\n",
        "\n",
        "            for j in range(len(users)):\n",
        "\n",
        "                score_positive = self.v[positive_user_items[j]]\n",
        "                score_negative = self.v[negative_user_items[j]]\n",
        "\n",
        "                temp = self.u[j]\n",
        "                # if theta = U    \n",
        "                differential = score_positive - score_negative\n",
        "                \n",
        "                self.u[j] += self.alpha * (numerator.T @ differential - self.lambda_ * temp)\n",
        "\n",
        "                # if theta = score_pos\n",
        "                differential = temp\n",
        "                res = np.outer(numerator, differential.T)\n",
        "                self.v[positive_ids] = self.v[positive_ids] + self.alpha * (res - self.lambda_ * score_positive)\n",
        "\n",
        "                # if theta = score_pos\n",
        "                differential = temp\n",
        "                self.v[negative_ids] = self.v[negative_ids] + self.alpha * (-res - self.lambda_ * score_negative)\n",
        "            score = self.u @ self.v.T        \n",
        "            self.losses.append(np.sqrt(np.mean(score**2)))"
      ],
      "execution_count": 27,
      "outputs": []
    },
    {
      "cell_type": "code",
      "metadata": {
        "colab": {
          "base_uri": "https://localhost:8080/"
        },
        "id": "mHbir-BMVhcV",
        "outputId": "0822e89e-5bc5-43e0-b140-e0f6f9d47e9f"
      },
      "source": [
        "import numpy as np\n",
        "\n",
        "bpr_model = BPR(alpha=0.01, epochs=1000, lambda_=1)\n",
        "bpr_model.fit(ratings)"
      ],
      "execution_count": 28,
      "outputs": [
        {
          "output_type": "stream",
          "name": "stderr",
          "text": [
            " 16%|█▌        | 158/1000 [04:36<24:25,  1.74s/it]/usr/local/lib/python3.7/dist-packages/ipykernel_launcher.py:69: RuntimeWarning: overflow encountered in exp\n",
            "100%|██████████| 1000/1000 [29:05<00:00,  1.75s/it]\n"
          ]
        }
      ]
    },
    {
      "cell_type": "code",
      "metadata": {
        "id": "4RJW7KtCBfK2",
        "colab": {
          "base_uri": "https://localhost:8080/",
          "height": 279
        },
        "outputId": "13ec0627-7912-4a52-e8fc-78df0350fa57"
      },
      "source": [
        "get_plot_of_loss(bpr_model.losses)"
      ],
      "execution_count": 29,
      "outputs": [
        {
          "output_type": "display_data",
          "data": {
            "image/png": "[encoded data removed]",
            "text/plain": [
              "<Figure size 432x288 with 1 Axes>"
            ]
          },
          "metadata": {
            "needs_background": "light"
          }
        }
      ]
    },
    {
      "cell_type": "code",
      "metadata": {
        "colab": {
          "base_uri": "https://localhost:8080/"
        },
        "id": "PhQraZHt6ZSo",
        "outputId": "6fe858b8-cf46-4325-b31a-5631897b88d3"
      },
      "source": [
        "get_similars(1, regr)"
      ],
      "execution_count": 30,
      "outputs": [
        {
          "output_type": "stream",
          "name": "stdout",
          "text": [
            "Similar to Toy Story (1995) with category Animation|Children's|Comedy:\n",
            "1) Aladdin (1992) with category Animation|Children's|Comedy|Musical\n",
            "2) Toy Story 2 (1999) with category Animation|Children's|Comedy\n",
            "3) Groundhog Day (1993) with category Comedy|Romance\n",
            "4) Bug's Life, A (1998) with category Animation|Children's|Comedy\n",
            "5) Willy Wonka and the Chocolate Factory (1971) with category Adventure|Children's|Comedy|Fantasy\n",
            "6) Wayne's World (1992) with category Comedy\n",
            "7) Lion King, The (1994) with category Animation|Children's|Musical\n",
            "8) Austin Powers: International Man of Mystery (1997) with category Comedy\n",
            "9) Ferris Bueller's Day Off (1986) with category Comedy\n",
            "10) Big (1988) with category Comedy|Fantasy\n"
          ]
        }
      ]
    },
    {
      "cell_type": "code",
      "metadata": {
        "colab": {
          "base_uri": "https://localhost:8080/"
        },
        "id": "kklhGQR96Zan",
        "outputId": "ae6231b1-6a02-4285-aeb9-bf25e5d2d201"
      },
      "source": [
        "get_recommendations(1, regr)"
      ],
      "execution_count": 31,
      "outputs": [
        {
          "output_type": "stream",
          "name": "stdout",
          "text": [
            "Reccomend for user 1:\n",
            "1) Star Wars: Episode V - The Empire Strikes Back (1980) with category Action|Adventure|Drama|Sci-Fi|War\n",
            "2) Back to the Future (1985) with category Comedy|Sci-Fi\n",
            "3) Princess Bride, The (1987) with category Action|Adventure|Comedy|Romance\n",
            "4) Shakespeare in Love (1998) with category Comedy|Romance\n",
            "5) Star Wars: Episode VI - Return of the Jedi (1983) with category Action|Adventure|Romance|Sci-Fi|War\n",
            "6) Matrix, The (1999) with category Action|Sci-Fi|Thriller\n",
            "7) Groundhog Day (1993) with category Comedy|Romance\n",
            "8) Toy Story (1995) with category Animation|Children's|Comedy\n",
            "9) Raiders of the Lost Ark (1981) with category Action|Adventure\n",
            "10) American Beauty (1999) with category Comedy|Drama\n"
          ]
        }
      ]
    },
    {
      "cell_type": "markdown",
      "metadata": {
        "id": "8ViC7BNTvTIv"
      },
      "source": [
        "### Задание 4. Не использую готовые решения, реализовать матричное разложение WARP на implicit данных"
      ]
    },
    {
      "cell_type": "code",
      "metadata": {
        "id": "tvrhnFq9wxh-"
      },
      "source": [
        ""
      ],
      "execution_count": null,
      "outputs": []
    }
  ]
}